{
 "cells": [
  {
   "cell_type": "code",
   "execution_count": null,
   "id": "e073140d",
   "metadata": {},
   "outputs": [],
   "source": [
    "1. In the below elements which of them are values or an expression? eg:- values can be integer or string and expressions will be mathematical operators.\n",
    "* Expression\n",
    "'hello' String\n",
    "-87.8 Float\n",
    "- Expression\n",
    "/ Expression\n",
    "+\tExpression\n",
    "6 int\n",
    "\n",
    "2. What is the difference between string and variable?\n",
    "Variables are the instances to store the data eg. A=10 in this A is variable.\n",
    "String is a value inside parenthesis. “Kedar” this is string\n",
    "\n",
    "3. Describe three different data types.\n",
    "String: value inside parenthesis. . “Kedar” this is string\n",
    "Int:any integer no. is int eg 23 is int\n",
    "Float: the no. with decimal places 23.02 is float\n",
    "Complex: 6+3j\n",
    "\n",
    "4. What is an expression made up of? What do all expressions do?\n",
    "Expressions are mathematical operators , variables. It will calculate the single value afte\n",
    "5. This assignment statements, like spam = 10. What is the difference between an expression and a statement?\n",
    "Spam = 10 will not give any output. It is statement but after spam = 10 if I will type the spam again & will execute then it will return the value which is expression.\n",
    "6. After running the following code, what does the variable bacon contain?\n",
    "bacon = 22\n",
    "bacon + 1\n",
    "O/P 23\n",
    "\n",
    "7. What should the values of the following two terms be?\n",
    "'spam' + 'spamspam'\n",
    "'spam' * 3\n",
    "‘spamspamspam’\n",
    "8. Why is eggs a valid variable name while 100 is invalid?\n",
    "Number cant be a variable.\n",
    "9. What three functions can be used to get the integer, floating-point number, or string version of a value?\n",
    "Int, float, str\n",
    "10. Why does this expression cause an error? How can you fix it?\n",
    "'I have eaten ' + 99 + ' burritos.'\n",
    "The 99 is int. following code can be done:\n",
    "'I have eaten ' + ‘99’ + ' burritos.'\n"
   ]
  }
 ],
 "metadata": {
  "kernelspec": {
   "display_name": "Python 3",
   "language": "python",
   "name": "python3"
  },
  "language_info": {
   "codemirror_mode": {
    "name": "ipython",
    "version": 3
   },
   "file_extension": ".py",
   "mimetype": "text/x-python",
   "name": "python",
   "nbconvert_exporter": "python",
   "pygments_lexer": "ipython3",
   "version": "3.8.8"
  }
 },
 "nbformat": 4,
 "nbformat_minor": 5
}
